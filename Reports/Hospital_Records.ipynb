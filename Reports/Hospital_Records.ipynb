{
 "cells": [
  {
   "cell_type": "markdown",
   "metadata": {},
   "source": [
    "#Reyes Guerrero Luis Benjamin\n",
    "# Tarea S3\n",
    "# NRC: 4243"
   ]
  },
  {
   "cell_type": "markdown",
   "metadata": {},
   "source": [
    "Visualización del .text"
   ]
  },
  {
   "cell_type": "code",
   "execution_count": 17,
   "metadata": {},
   "outputs": [
    {
     "name": "stdout",
     "output_type": "stream",
     "text": [
      "     ID Nombre del Paciente Fecha de Ingreso Fecha de Alta  Días de Hospitalización  Costo Total (USD)\n",
      "0     1          Juan Perez       2023-07-10    2023-07-20                       10               5000\n",
      "1     2         Maria Lopez       2023-06-15    2023-06-25                       10               4800\n",
      "2     3       Carlos Torres       2023-05-01    2023-05-01                        0              10000\n",
      "3     4            Ana Rios       2022/12/10    2022/12/30                       20              -3000\n",
      "4     5          Pedro Diaz       2024-08-20    2024-08-22                        2                600\n",
      "5     6          Sofia Cruz       2024-02-29    2024-03-02                        2               1500\n",
      "6     7          Juan Perez       2023-07-10    2023-07-20                       10               5000\n",
      "7     8     Luisa Fernandez       2024-01-01    2024-01-15                       14               8000\n",
      "8     9      Fernando Perez       2024-09-05    2025-08-10                      365              40000\n",
      "9    10      Laura Martinez              NaN    2023-07-15                        5               2500\n",
      "10   11       Daniel Suarez       2024-11-01    2024-10-01                      -30               3000\n",
      "11   12        Camila Lopez       2024-08-10    2024-08-25                       15               7500\n",
      "12   13           Jose Luis       2024-03-15    2024-03-17                     1000                500\n",
      "13   14      Patricia Gomez       2023-04-01    2023-04-02                        1                200\n",
      "14   15          Marco Diaz       2024-06-12    2024-06-25                       13                  0\n",
      "15   16         Carla Perez       2023-05-01    2023-06-01                        1             100000\n",
      "16   17          David Ruiz       2022-11-20           NaN                       15               2500\n",
      "17   18    Felipe Gutierrez       2023-01-10    2023-01-15                        5               5000\n",
      "18   19         Maria Lopez       2023-06-15    2023-06-25                       10               4800\n",
      "19   20         Laura Lopez       2024-04-20    2024-05-30                        0               2000\n",
      "20   21     Fernando Torres       2024-07-15    2023-07-18                        3               1200\n",
      "21   22          Jose Perez       2023-05-01    2023-05-05                        4               2200\n",
      "22   23          Ana Garcia       2024-03-10    2024-03-15                        5               -100\n",
      "23   24      Daniel Salinas       2024-01-01    2024-01-20                       19               8500\n",
      "24   25         Isabel Cruz       2023-08-08    2023-08-07                       -1               4000\n",
      "25   26       Manuel Flores       2023-10-10    2023-11-10                       31              10000\n",
      "26   27          Juan Perez       2023-07-10    2023-07-20                       10               5000\n",
      "27   28      Fernando Perez       2023-06-18    2023-06-28                       10               7500\n",
      "28   29    Patricia Morales       2024-12-10    2024-12-11                        1                100\n",
      "29   30      Esteban Torres       2023-01-15    2023-01-18                      999               1500\n",
      "30   31       Luis Martinez       2023-03-01    2023-03-15                       14              10000\n",
      "31   32           Sara Ruiz       2024-05-10    2024-05-05                       -5               6000\n",
      "32   33         Carla Perez       2024-06-15    2024-06-20                        5               3000\n",
      "33   34          Pedro Diaz       2024-01-05    2024-01-08                        3               1000\n",
      "34   35          Laura Diaz       2023-09-20    2023-09-25                        5               2000\n",
      "35   36          Juan Perez       2023-07-10    2023-07-20                       10               5000\n",
      "36   37     Fernando Torres       2023-06-15    2023-06-18                        3               5000\n",
      "37   38         Daniel Ruiz       2024-07-05    2024-07-10                        5               5000\n",
      "38   39     Maria Gutierrez       2023-04-10    2023-04-11                        1                100\n",
      "39   40    Alejandro Flores       2024-02-02           NaN                        2               3000\n",
      "40   41      Patricia Gomez       2022-10-10    2022-10-12                        2               1000\n",
      "41   42          Laura Cruz       2024-08-01    2024-08-10                        9               6000\n",
      "42   43  Fernando Gutierrez       2024-05-15    2024-06-10                       26              10000\n",
      "43   44         Sofia Perez       2023-12-12    2023-12-12                        0                500\n",
      "44   45          Laura Cruz       2024-08-01    2024-08-10                        9               6000\n",
      "45   46    Patricia Morales       2023-03-01    2023-03-01                        0               1500\n",
      "46   47       Julio Salazar       2023-07-07    2023-07-17                       10               7000\n",
      "47   48          Paula Ruiz       2022-11-01    2022-11-02                        1                500\n",
      "48   49       Alberto Perez       2024-02-05    2024-02-12                        7               2000\n",
      "49   50      Alejandro Diaz       2024-04-01    2024-04-10                        9               6500\n",
      "50   51           Jose Luis       2023-12-05    2023-12-06                        1                300\n",
      "51   52     Fernando Torres       2023-10-20    2023-10-25                        5               4500\n",
      "52   53          Juan Perez       2023-07-10    2023-07-20                       10               5000\n",
      "53   54     Luisa Gutierrez       2023-09-15    2023-09-20                        5               2000\n",
      "54   55    Patricia Morales       2024-05-01    2024-05-10                        9               5000\n",
      "55   56           Jose Diaz       2024-11-10    2024-11-25                       15               4000\n",
      "56   57          Pedro Ruiz       2022-10-05    2022-10-15                       10               5000\n",
      "57   58          Juan Perez       2023-07-10    2023-07-20                       10               5000\n",
      "58   59     Luisa Fernandez       2024-06-10    2024-06-15                        5               6000\n",
      "59   60      Patricia Gomez       2024-09-10    2024-09-20                       10               3000\n",
      "60   61      Fernando Perez       2023-11-11    2023-11-11                        0                500\n",
      "61   62         Paula Lopez       2023-08-10    2023-08-12                        2               2000\n",
      "62   63      Jose Gutierrez       2024-05-05    2024-05-07                        2               3000\n",
      "63   64            Ana Diaz       2024-02-12    2024-02-15                        3               1000\n",
      "64   65       Laura Salazar       2024-03-03    2024-03-06                        3               2500\n",
      "65   66       Daniel Torres       2023-07-01    2023-07-01                        0               1500\n",
      "66   67         Carlos Ruiz       2024-07-07    2024-07-15                        8               5000\n",
      "67   68         Felipe Diaz       2024-09-01    2024-09-05                        4               2500\n",
      "68   69         Laura Perez       2023-06-10    2023-06-15                        5               2500\n",
      "69   70         Juan Torres       2023-03-05    2023-03-10                        5               2000\n",
      "70   71           Jose Luis       2023-10-20    2023-10-22                        2               3000\n",
      "71   72      Patricia Lopez       2024-07-10    2024-07-15                        5               1500\n",
      "72   73         Camila Diaz       2024-08-01    2024-08-10                        9               4000\n",
      "73   74          Laura Cruz       2024-08-01    2024-08-10                        9               6000\n",
      "74   75      Patricia Gomez       2022-12-01    2022-12-05                        4               3500\n",
      "75   76       Fernando Ruiz       2023-09-10    2023-09-15                        5               4500\n",
      "76   77        Felipe Perez       2024-01-20    2024-01-30                       10               5500\n",
      "77   78      Fernando Lopez       2023-12-05    2023-12-12                        7               3000\n",
      "78   79    Patricia Morales       2024-05-10    2024-05-10                        0               1000\n",
      "79   80        Laura Torres       2024-02-05    2024-02-05                        0               1500\n",
      "80   81  Fernando Gutierrez       2023-04-05    2023-04-12                        7               2500\n",
      "81   82        Camila Perez       2023-07-15    2023-07-20                        5               2000\n",
      "82   83           Juan Diaz       2023-08-05    2023-08-08                        3               1500\n",
      "83   84          Laura Cruz       2024-08-01    2024-08-10                        9               6000\n",
      "84   85     Alejandro Perez       2023-12-01    2023-12-10                        9               5000\n",
      "85   86    Fernando Salinas       2023-05-15    2023-05-20                        5               3000\n",
      "86   87         Daniel Ruiz       2024-07-07    2024-07-15                        8               6500\n",
      "87   88          Laura Cruz       2024-08-01    2024-08-10                        9               6000\n",
      "88   89            Ana Diaz       2024-02-10    2024-02-15                        5               2000\n",
      "89   90          Juan Perez       2023-07-10    2023-07-20                       10               5000\n",
      "90   91       Camila Torres       2023-11-05    2023-11-08                        3               1500\n",
      "91   92       Fernando Diaz       2024-01-01    2024-01-01                        0                500\n",
      "92   93          Paula Cruz       2023-05-12    2023-05-15                        3               2500\n",
      "93   94        Juan Salazar       2023-03-10    2023-03-12                        2               1500\n",
      "94   95         Camila Ruiz       2024-02-08    2024-02-10                        2               1500\n",
      "95   96      Patricia Gomez       2022-11-01    2022-11-05                        4               3500\n",
      "96   97         Felipe Ruiz       2024-05-05    2024-05-12                        7               3000\n",
      "97   98          Juan Perez       2023-07-10    2023-07-20                       10               5000\n",
      "98   99          Laura Diaz       2024-01-10    2024-01-18                        8               4000\n",
      "99  100    Daniel Gutierrez       2024-03-05    2024-03-08                        3               1500\n"
     ]
    }
   ],
   "source": [
    "import pandas as pd\n",
    "# Cargar el archivo .txt (cambia el delimitador si es necesario)\n",
    "df = pd.read_csv('Hospital_Records.txt', delimiter=',')\n",
    "# Visualizar las primeras 5 filas del DataFrame\n",
    "# print(df.head())\n",
    "# Mostrar todo el contenido del DataFrame\n",
    "print(df.to_string())  # to_string() se utiliza para mostrar todos los datos sin truncarlos\n",
    "\n"
   ]
  },
  {
   "cell_type": "markdown",
   "metadata": {},
   "source": [
    "1.-Cargar el archivo y verificar los tipos de datos"
   ]
  },
  {
   "cell_type": "code",
   "execution_count": 14,
   "metadata": {},
   "outputs": [
    {
     "name": "stdout",
     "output_type": "stream",
     "text": [
      "ID                          int64\n",
      "Nombre del Paciente        object\n",
      "Fecha de Ingreso           object\n",
      "Fecha de Alta              object\n",
      "Días de Hospitalización     int64\n",
      "Costo Total (USD)           int64\n",
      "dtype: object\n"
     ]
    }
   ],
   "source": [
    "import pandas as pd\n",
    "# Verificar los tipos de datos cargados\n",
    "print(df.dtypes)"
   ]
  },
  {
   "cell_type": "markdown",
   "metadata": {},
   "source": [
    "2.-Convertir columnas a formato numérico y manejar errores\n",
    "\"Algunas columnas como \"Días de Hospitalización\" y \"Costo Total (USD)\" podrían no estar en formato numérico, así que vamos a forzar la conversión.\""
   ]
  },
  {
   "cell_type": "code",
   "execution_count": 7,
   "metadata": {},
   "outputs": [
    {
     "name": "stdout",
     "output_type": "stream",
     "text": [
      "Días de Hospitalización    0\n",
      "Costo Total (USD)          0\n",
      "dtype: int64\n"
     ]
    }
   ],
   "source": [
    "# Convertir columnas relevantes a numéricas, manejando errores\n",
    "df['Días de Hospitalización'] = pd.to_numeric(df['Días de Hospitalización'], errors='coerce')\n",
    "df['Costo Total (USD)'] = pd.to_numeric(df['Costo Total (USD)'], errors='coerce')\n",
    "\n",
    "# Verificar si hay valores nulos después de la conversión\n",
    "print(df[['Días de Hospitalización', 'Costo Total (USD)']].isnull().sum())\n",
    "\n",
    "\n"
   ]
  },
  {
   "cell_type": "markdown",
   "metadata": {},
   "source": [
    "3.-Calcular estadísticas (media, mediana, desviación estándar)\n",
    "\"Ahora que las columnas están en formato numérico, ya podemos calcular las estadísticas\""
   ]
  },
  {
   "cell_type": "code",
   "execution_count": 9,
   "metadata": {},
   "outputs": [
    {
     "name": "stdout",
     "output_type": "stream",
     "text": [
      "                          Media  Mediana  Deviación Estandar\n",
      "Días de Hospitalización    29.4      5.0          143.989127\n",
      "Costo Total (USD)        4807.0   3000.0        10591.785029\n"
     ]
    }
   ],
   "source": [
    "import numpy as np\n",
    "\n",
    "# Obtener las columnas numéricas\n",
    "numeric_cols = df[['Días de Hospitalización', 'Costo Total (USD)']]\n",
    "\n",
    "# Calcular estadísticas\n",
    "mean_values = numeric_cols.mean()\n",
    "median_values = numeric_cols.median()\n",
    "std_values = numeric_cols.std()\n",
    "\n",
    "# Crear un DataFrame con las estadísticas\n",
    "stats_df = pd.DataFrame({\n",
    "    'Media': mean_values,\n",
    "    'Mediana': median_values,\n",
    "    'Deviación Estandar': std_values\n",
    "})\n",
    "\n",
    "# Imprimir las estadísticas\n",
    "print(stats_df)\n",
    "\n",
    "# Guardar estadísticas en un archivo\n",
    "stats_df.to_csv('estadisticas.txt', sep='\\t')\n",
    "\n"
   ]
  },
  {
   "cell_type": "markdown",
   "metadata": {},
   "source": [
    "4.-Crear los histogramas\n",
    "\"Ahora podremos generar los histogramas para visualizar las distribuciones\""
   ]
  },
  {
   "cell_type": "code",
   "execution_count": 10,
   "metadata": {},
   "outputs": [
    {
     "data": {
      "image/png": "[encoded data removed]",
      "text/plain": [
       "<Figure size 1000x600 with 2 Axes>"
      ]
     },
     "metadata": {},
     "output_type": "display_data"
    }
   ],
   "source": [
    "# Solución\n",
    "import matplotlib.pyplot as plt\n",
    "\n",
    "# Crear un gráfico con dos histogramas\n",
    "plt.figure(figsize=(10, 6))\n",
    "\n",
    "# Primer histograma: Días de Hospitalización\n",
    "plt.subplot(2, 1, 1)\n",
    "df['Días de Hospitalización'].dropna().hist(bins=20, color='blue', alpha=0.7)\n",
    "plt.title('Histograma de Días de Hospitalización')\n",
    "plt.xlabel('Días de Hospitalización')\n",
    "plt.ylabel('Frecuencia')\n",
    "\n",
    "# Segundo histograma: Costo Total (USD)\n",
    "plt.subplot(2, 1, 2)\n",
    "df['Costo Total (USD)'].dropna().hist(bins=20, color='green', alpha=0.7)\n",
    "plt.title('Histograma de Costo Total (USD)')\n",
    "plt.xlabel('Costo Total (USD)')\n",
    "plt.ylabel('Frecuencia')\n",
    "\n",
    "# Ajustar el diseño y mostrar los gráficos\n",
    "plt.tight_layout()\n",
    "plt.show()\n"
   ]
  }
 ],
 "metadata": {
  "kernelspec": {
   "display_name": "IngDatos",
   "language": "python",
   "name": "python3"
  },
  "language_info": {
   "codemirror_mode": {
    "name": "ipython",
    "version": 3
   },
   "file_extension": ".py",
   "mimetype": "text/x-python",
   "name": "python",
   "nbconvert_exporter": "python",
   "pygments_lexer": "ipython3",
   "version": "3.12.4"
  },
  "name": "Ejercicios.ipynb"
 },
 "nbformat": 4,
 "nbformat_minor": 0
}
