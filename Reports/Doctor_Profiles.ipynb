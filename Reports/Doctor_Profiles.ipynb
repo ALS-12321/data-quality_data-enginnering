{
 "cells": [
  {
   "cell_type": "markdown",
   "id": "1edec9d1-d3d0-4e03-b71d-79c3396c486f",
   "metadata": {},
   "source": [
    "# Perfiles de Medicos"
   ]
  },
  {
   "cell_type": "markdown",
   "id": "af7e74da-8c71-4b19-94e6-952e36aac9cf",
   "metadata": {},
   "source": [
    "## 1.-Cargar y visualizar el archivo"
   ]
  },
  {
   "cell_type": "code",
   "execution_count": 39,
   "id": "ce884da2-40c4-49be-b9a1-0faae2c40877",
   "metadata": {},
   "outputs": [
    {
     "name": "stdout",
     "output_type": "stream",
     "text": [
      "   ID           Nombre  Edad  Especialidad  Años de Experiencia  \\\n",
      "0   1       Juan Perez    35   Cardiologia                 10.0   \n",
      "1   2      Maria Lopez    45    Neurologia                 20.0   \n",
      "2   3  Carlos Martinez   120     Pediatria                  5.0   \n",
      "3   4    Ana Gutierrez    -5  Dermatologia                 15.0   \n",
      "4   5    Felipe Torres    40  Oftalmologia                 25.0   \n",
      "\n",
      "  Fecha de Ingreso al Hospital  \n",
      "0                   2023-06-12  \n",
      "1                   2022/08/01  \n",
      "2                   2022-09-18  \n",
      "3                   2024-05-30  \n",
      "4                   2023-01-01  \n",
      "ID                                int64\n",
      "Nombre                           object\n",
      "Edad                              int64\n",
      "Especialidad                     object\n",
      "Años de Experiencia             float64\n",
      "Fecha de Ingreso al Hospital     object\n",
      "dtype: object\n"
     ]
    }
   ],
   "source": [
    "#Cargar y visualizar el producto\n",
    "import pandas as pd\n",
    "df = pd.read_csv('Doctor_Profiles.txt', delimiter=',')\n",
    "print(df.head()) \n",
    "print(df.dtypes)"
   ]
  },
  {
   "cell_type": "markdown",
   "id": "e500f7ca-de46-4a19-99eb-fcff18ece294",
   "metadata": {},
   "source": [
    "## 2.-Mostraremos tipos de datos \"Algunas columnas, como la edad y años de experiencia, podrían no ser reconocidas automáticamente como numéricas debido a errores en los datos (como valores negativos o faltantes)\"."
   ]
  },
  {
   "cell_type": "code",
   "execution_count": 40,
   "id": "885f0c93-04e1-40cf-90ce-2aa49390b414",
   "metadata": {},
   "outputs": [
    {
     "name": "stdout",
     "output_type": "stream",
     "text": [
      "Edades inválidas:\n",
      "    ID         Nombre  Edad  Especialidad  Años de Experiencia  \\\n",
      "3    4  Ana Gutierrez    -5  Dermatologia                 15.0   \n",
      "11  12  Ana Gutierrez    -5  Dermatologia                 15.0   \n",
      "38  39  Ana Gutierrez    -5  Dermatologia                 15.0   \n",
      "63  64  Ana Gutierrez    -5  Dermatologia                 15.0   \n",
      "\n",
      "   Fecha de Ingreso al Hospital  \n",
      "3                    2024-05-30  \n",
      "11                   2024-05-30  \n",
      "38                   2024-05-30  \n",
      "63                   2024-05-30  \n",
      "Años de experiencia inválidos:\n",
      "    ID       Nombre  Edad Especialidad  Años de Experiencia  \\\n",
      "6    7  Jose Suarez    28    Ortopedia                  NaN   \n",
      "32  33  Jose Suarez    28    Ortopedia                  NaN   \n",
      "53  54  Jose Suarez    28    Ortopedia                  NaN   \n",
      "66  67  Jose Suarez    28    Ortopedia                  NaN   \n",
      "71  72  Jose Suarez    28    Ortopedia                  NaN   \n",
      "77  78  Jose Suarez    28    Ortopedia                  NaN   \n",
      "90  91  Jose Suarez    28    Ortopedia                  NaN   \n",
      "\n",
      "   Fecha de Ingreso al Hospital  \n",
      "6                    2022-07-15  \n",
      "32                   2022-07-15  \n",
      "53                   2022-07-15  \n",
      "66                   2022-07-15  \n",
      "71                   2022-07-15  \n",
      "77                   2022-07-15  \n",
      "90                   2022-07-15  \n"
     ]
    }
   ],
   "source": [
    "print(\"Edades inválidas:\")\n",
    "print(df[df[\"Edad\"] <= 0])\n",
    "\n",
    "print(\"Años de experiencia inválidos:\")\n",
    "print(df[df[\"Años de Experiencia\"].isna()])"
   ]
  },
  {
   "cell_type": "markdown",
   "id": "61a7376c-f4a5-4462-ab39-15a9c9e1f7d2",
   "metadata": {},
   "source": [
    "## 3.-Calcular estadísticas (media, mediana, desviación estándar) \"Una vez que las columnas estén en formato numérico, calcularemos las estadísticas solicitadas\""
   ]
  },
  {
   "cell_type": "code",
   "execution_count": 45,
   "id": "5993a2d1-09b6-4c23-94d1-3ba9fa8df60a",
   "metadata": {},
   "outputs": [
    {
     "name": "stdout",
     "output_type": "stream",
     "text": [
      "Estadísticas de Edad:\n",
      "Media: 51.78947368421053\n",
      "Mediana: 50.0\n",
      "Desviación Estándar: 20.392558920600028\n",
      "\n",
      "Estadísticas de Años de Experiencia:\n",
      "Media: 31.09677419354839\n",
      "Mediana: 25.0\n",
      "Desviación Estándar: 30.10589543129017\n"
     ]
    }
   ],
   "source": [
    "# Calcular media, mediana y desviación estándar de \"Edad\" y \"Años de Experiencia\"\n",
    "edad_media = df['Edad'].mean()\n",
    "edad_mediana = df['Edad'].median()\n",
    "edad_desviacion_std = df['Edad'].std()\n",
    "\n",
    "experiencia_media = df['Años de Experiencia'].mean()\n",
    "experiencia_mediana = df['Años de Experiencia'].median()\n",
    "experiencia_desviacion_std = df['Años de Experiencia'].std()\n",
    "\n",
    "print(\"Estadísticas de Edad:\")\n",
    "print(f\"Media: {edad_media}\")\n",
    "print(f\"Mediana: {edad_mediana}\")\n",
    "print(f\"Desviación Estándar: {edad_desviacion_std}\")\n",
    "\n",
    "print(\"\\nEstadísticas de Años de Experiencia:\")\n",
    "print(f\"Media: {experiencia_media}\")\n",
    "print(f\"Mediana: {experiencia_mediana}\")\n",
    "print(f\"Desviación Estándar: {experiencia_desviacion_std}\")"
   ]
  },
  {
   "cell_type": "markdown",
   "id": "fb16017d-6511-4482-b6c3-48f6dadea11b",
   "metadata": {},
   "source": [
    "## 4.-Crear visualizaciones de los datos \"Ahora generaremos histogramas de las columnas numéricas para visualizar las distribuciones de la duración de las edades y los años de experiencia\""
   ]
  },
  {
   "cell_type": "code",
   "execution_count": 46,
   "id": "0645c21f-efe4-4991-b0ef-4912f39328fa",
   "metadata": {},
   "outputs": [
    {
     "name": "stderr",
     "output_type": "stream",
     "text": [
      "Matplotlib is building the font cache; this may take a moment.\n"
     ]
    },
    {
     "data": {
      "image/png": "[encoded data removed]",
      "text/plain": [
       "<Figure size 1400x600 with 2 Axes>"
      ]
     },
     "metadata": {},
     "output_type": "display_data"
    }
   ],
   "source": [
    "import matplotlib.pyplot as plt\n",
    "# Graficar histogramas de Edad y Años de Experiencia\n",
    "plt.figure(figsize=(14, 6))\n",
    "\n",
    "# Histograma de Edades\n",
    "plt.subplot(1, 2, 1)\n",
    "plt.hist(df['Edad'], bins=10, color='skyblue', edgecolor='black')\n",
    "plt.title('Histograma de Edades')\n",
    "plt.xlabel('Edad')\n",
    "plt.ylabel('Frecuencia')\n",
    "\n",
    "# Histograma de Años de Experiencia\n",
    "plt.subplot(1, 2, 2)\n",
    "plt.hist(df['Años de Experiencia'], bins=10, color='lightgreen', edgecolor='black')\n",
    "plt.title('Histograma de Años de Experiencia')\n",
    "plt.xlabel('Años de Experiencia')\n",
    "plt.ylabel('Frecuencia')\n",
    "\n",
    "# Mostrar las gráficas\n",
    "plt.tight_layout()\n",
    "plt.show()"
   ]
  },
  {
   "cell_type": "code",
   "execution_count": null,
   "id": "b388c40d-266f-48ad-9b1f-27d894a1e716",
   "metadata": {},
   "outputs": [],
   "source": []
  }
 ],
 "metadata": {
  "kernelspec": {
   "display_name": "Python 3 (ipykernel)",
   "language": "python",
   "name": "python3"
  },
  "language_info": {
   "codemirror_mode": {
    "name": "ipython",
    "version": 3
   },
   "file_extension": ".py",
   "mimetype": "text/x-python",
   "name": "python",
   "nbconvert_exporter": "python",
   "pygments_lexer": "ipython3",
   "version": "3.12.4"
  }
 },
 "nbformat": 4,
 "nbformat_minor": 5
}
